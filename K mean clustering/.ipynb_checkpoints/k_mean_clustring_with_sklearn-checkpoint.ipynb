{
 "cells": [
  {
   "cell_type": "code",
   "execution_count": 15,
   "metadata": {},
   "outputs": [],
   "source": [
    "import numpy as np\n",
    "import matplotlib.pyplot as plt\n",
    "import pandas as pd\n",
    "from sklearn.cluster import KMeans"
   ]
  },
  {
   "cell_type": "code",
   "execution_count": 16,
   "metadata": {},
   "outputs": [],
   "source": [
    "data = pd.read_csv(\"durudataset.txt\",sep=\"\\t\",names=[\"A\",\"B\"]).values"
   ]
  },
  {
   "cell_type": "code",
   "execution_count": 17,
   "metadata": {},
   "outputs": [
    {
     "data": {
      "text/plain": [
       "array([[0.19670575, 0.26617497],\n",
       "       [0.41328699, 0.35582835],\n",
       "       [0.33843555, 0.43573826],\n",
       "       [0.10380152, 0.16434481],\n",
       "       [0.15905236, 0.32505901],\n",
       "       [0.06690549, 0.48741807],\n",
       "       [0.33573144, 0.03798368],\n",
       "       [0.28549554, 0.29350958],\n",
       "       [0.08488353, 0.20694325],\n",
       "       [0.07382789, 0.15456821],\n",
       "       [0.23803986, 0.13191702],\n",
       "       [0.45405121, 0.37938313],\n",
       "       [0.27608751, 0.49760799],\n",
       "       [0.01646995, 0.09328572],\n",
       "       [0.02693146, 0.39057263],\n",
       "       [0.40253161, 0.09789899],\n",
       "       [0.22568743, 0.49617949],\n",
       "       [0.19132311, 0.40113078],\n",
       "       [0.39482185, 0.21211335],\n",
       "       [0.18214343, 0.36443193],\n",
       "       [1.49835358, 1.40350139],\n",
       "       [1.80899027, 1.93497909],\n",
       "       [1.35650893, 1.47948455],\n",
       "       [1.07324343, 1.23179161],\n",
       "       [1.59099146, 1.39629025],\n",
       "       [1.91018783, 1.70507748],\n",
       "       [1.19376594, 1.55855903],\n",
       "       [1.43236779, 1.7566307 ],\n",
       "       [1.74915973, 1.99548106],\n",
       "       [1.03918449, 1.9624314 ],\n",
       "       [1.94632499, 1.53506711],\n",
       "       [1.76367332, 1.96387013],\n",
       "       [1.55882055, 1.11562588],\n",
       "       [1.18384294, 1.05144829],\n",
       "       [1.49794882, 1.30434895],\n",
       "       [1.5178456 , 1.58019183],\n",
       "       [1.99424301, 1.53096445],\n",
       "       [1.85485168, 1.90120809],\n",
       "       [1.96240394, 1.54055043],\n",
       "       [1.67894101, 1.43198061]])"
      ]
     },
     "execution_count": 17,
     "metadata": {},
     "output_type": "execute_result"
    }
   ],
   "source": [
    "data"
   ]
  },
  {
   "cell_type": "code",
   "execution_count": 18,
   "metadata": {},
   "outputs": [
    {
     "data": {
      "text/plain": [
       "<matplotlib.collections.PathCollection at 0x7f3ac4b54e10>"
      ]
     },
     "execution_count": 18,
     "metadata": {},
     "output_type": "execute_result"
    },
    {
     "data": {
      "image/png": "[encoded data removed]",
      "text/plain": [
       "<Figure size 432x288 with 1 Axes>"
      ]
     },
     "metadata": {
      "needs_background": "light"
     },
     "output_type": "display_data"
    }
   ],
   "source": [
    "plt.scatter(data[:,0],data[:,1])"
   ]
  },
  {
   "cell_type": "code",
   "execution_count": 20,
   "metadata": {},
   "outputs": [],
   "source": [
    "model =KMeans(n_clusters=2)"
   ]
  },
  {
   "cell_type": "code",
   "execution_count": 21,
   "metadata": {},
   "outputs": [
    {
     "data": {
      "text/plain": [
       "KMeans(algorithm='auto', copy_x=True, init='k-means++', max_iter=300,\n",
       "    n_clusters=2, n_init=10, n_jobs=None, precompute_distances='auto',\n",
       "    random_state=None, tol=0.0001, verbose=0)"
      ]
     },
     "execution_count": 21,
     "metadata": {},
     "output_type": "execute_result"
    }
   ],
   "source": [
    "model.fit(data)"
   ]
  },
  {
   "cell_type": "code",
   "execution_count": 26,
   "metadata": {},
   "outputs": [],
   "source": [
    "centroid = model.cluster_centers_"
   ]
  },
  {
   "cell_type": "code",
   "execution_count": 27,
   "metadata": {},
   "outputs": [
    {
     "data": {
      "text/plain": [
       "array([0, 0, 0, 0, 0, 0, 0, 0, 0, 0, 0, 0, 0, 0, 0, 0, 0, 0, 0, 0, 1, 1,\n",
       "       1, 1, 1, 1, 1, 1, 1, 1, 1, 1, 1, 1, 1, 1, 1, 1, 1, 1], dtype=int32)"
      ]
     },
     "execution_count": 27,
     "metadata": {},
     "output_type": "execute_result"
    }
   ],
   "source": [
    "model.labels_"
   ]
  },
  {
   "cell_type": "code",
   "execution_count": 28,
   "metadata": {},
   "outputs": [
    {
     "data": {
      "text/plain": [
       "<matplotlib.collections.PathCollection at 0x7f3ac170bbe0>"
      ]
     },
     "execution_count": 28,
     "metadata": {},
     "output_type": "execute_result"
    },
    {
     "data": {
      "image/png": "[encoded data removed]",
      "text/plain": [
       "<Figure size 432x288 with 1 Axes>"
      ]
     },
     "metadata": {
      "needs_background": "light"
     },
     "output_type": "display_data"
    }
   ],
   "source": [
    "plt.scatter(data[:,0],data[:,1])\n",
    "plt.scatter(centroid[:,0],centroid[:,1],c=[\"red\",\"pink\"])"
   ]
  },
  {
   "cell_type": "code",
   "execution_count": null,
   "metadata": {},
   "outputs": [],
   "source": []
  }
 ],
 "metadata": {
  "kernelspec": {
   "display_name": "Python 3",
   "language": "python",
   "name": "python3"
  },
  "language_info": {
   "codemirror_mode": {
    "name": "ipython",
    "version": 3
   },
   "file_extension": ".py",
   "mimetype": "text/x-python",
   "name": "python",
   "nbconvert_exporter": "python",
   "pygments_lexer": "ipython3",
   "version": "3.6.7"
  }
 },
 "nbformat": 4,
 "nbformat_minor": 2
}
