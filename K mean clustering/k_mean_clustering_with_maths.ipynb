{
 "cells": [
  {
   "cell_type": "code",
   "execution_count": 15,
   "metadata": {},
   "outputs": [],
   "source": [
    "import numpy as np\n",
    "import matplotlib.pyplot as plt\n",
    "import pandas as pd"
   ]
  },
  {
   "cell_type": "code",
   "execution_count": 16,
   "metadata": {},
   "outputs": [],
   "source": [
    "data = pd.read_csv(\"durudataset.txt\",sep=\"\\t\",names=[\"A\",\"B\"]).values"
   ]
  },
  {
   "cell_type": "code",
   "execution_count": 17,
   "metadata": {},
   "outputs": [
    {
     "data": {
      "text/plain": [
       "array([[0.19670575, 0.26617497],\n",
       "       [0.41328699, 0.35582835],\n",
       "       [0.33843555, 0.43573826],\n",
       "       [0.10380152, 0.16434481],\n",
       "       [0.15905236, 0.32505901],\n",
       "       [0.06690549, 0.48741807],\n",
       "       [0.33573144, 0.03798368],\n",
       "       [0.28549554, 0.29350958],\n",
       "       [0.08488353, 0.20694325],\n",
       "       [0.07382789, 0.15456821],\n",
       "       [0.23803986, 0.13191702],\n",
       "       [0.45405121, 0.37938313],\n",
       "       [0.27608751, 0.49760799],\n",
       "       [0.01646995, 0.09328572],\n",
       "       [0.02693146, 0.39057263],\n",
       "       [0.40253161, 0.09789899],\n",
       "       [0.22568743, 0.49617949],\n",
       "       [0.19132311, 0.40113078],\n",
       "       [0.39482185, 0.21211335],\n",
       "       [0.18214343, 0.36443193],\n",
       "       [1.49835358, 1.40350139],\n",
       "       [1.80899027, 1.93497909],\n",
       "       [1.35650893, 1.47948455],\n",
       "       [1.07324343, 1.23179161],\n",
       "       [1.59099146, 1.39629025],\n",
       "       [1.91018783, 1.70507748],\n",
       "       [1.19376594, 1.55855903],\n",
       "       [1.43236779, 1.7566307 ],\n",
       "       [1.74915973, 1.99548106],\n",
       "       [1.03918449, 1.9624314 ],\n",
       "       [1.94632499, 1.53506711],\n",
       "       [1.76367332, 1.96387013],\n",
       "       [1.55882055, 1.11562588],\n",
       "       [1.18384294, 1.05144829],\n",
       "       [1.49794882, 1.30434895],\n",
       "       [1.5178456 , 1.58019183],\n",
       "       [1.99424301, 1.53096445],\n",
       "       [1.85485168, 1.90120809],\n",
       "       [1.96240394, 1.54055043],\n",
       "       [1.67894101, 1.43198061]])"
      ]
     },
     "execution_count": 17,
     "metadata": {},
     "output_type": "execute_result"
    }
   ],
   "source": [
    "data"
   ]
  },
  {
   "cell_type": "code",
   "execution_count": 18,
   "metadata": {},
   "outputs": [
    {
     "data": {
      "text/plain": [
       "<matplotlib.collections.PathCollection at 0x7fbd53e3de48>"
      ]
     },
     "execution_count": 18,
     "metadata": {},
     "output_type": "execute_result"
    },
    {
     "data": {
      "image/png": "[encoded data removed]",
      "text/plain": [
       "<Figure size 432x288 with 1 Axes>"
      ]
     },
     "metadata": {
      "needs_background": "light"
     },
     "output_type": "display_data"
    }
   ],
   "source": [
    "plt.scatter(data[:,0],data[:,1])"
   ]
  },
  {
   "cell_type": "code",
   "execution_count": 19,
   "metadata": {},
   "outputs": [],
   "source": [
    "def euclidian(A,B):\n",
    "    return np.sqrt(sum(list(map(lambda x,y:(x-y)**2,A,B))))  "
   ]
  },
  {
   "cell_type": "code",
   "execution_count": 20,
   "metadata": {},
   "outputs": [],
   "source": [
    "def k_mean(data,iteration,k):\n",
    "    init_centroid = data[np.random.randint(0,len(data)-1,size=k)]\n",
    "    centroid_collection = []\n",
    "    centroid_collection.append(init_centroid)\n",
    "    belong = np.zeros([len(data),1])\n",
    "    for t in range(iteration):\n",
    "        for num_instance,instance in enumerate(data):\n",
    "                temp_dist = np.zeros([k,1])\n",
    "                for centroid_num,centroid in enumerate(init_centroid):\n",
    "                    temp_dist[centroid_num] = euclidian(centroid,instance)\n",
    "                belong[num_instance] = np.argmin(temp_dist)\n",
    "                temp_centroid = np.zeros(init_centroid.shape)\n",
    "        for index in range(len(init_centroid)):\n",
    "                cluster = [i for i in range(len(belong)) if belong[i] == index]\n",
    "                mean_centroid = np.mean(data[cluster],axis=0)\n",
    "                temp_centroid[index,:] = mean_centroid\n",
    "        centroid_collection.append(temp_centroid)\n",
    "        init_centroid = temp_centroid\n",
    "    return init_centroid,belong,centroid_collection\n",
    "\n",
    "\n",
    "\n",
    "                        \n",
    "                "
   ]
  },
  {
   "cell_type": "code",
   "execution_count": 21,
   "metadata": {},
   "outputs": [],
   "source": [
    "centroid,cluster_belong,centroids_collection = k_mean(data,10,2)\n",
    "#centroid = np.array(centroid)"
   ]
  },
  {
   "cell_type": "code",
   "execution_count": 22,
   "metadata": {},
   "outputs": [
    {
     "data": {
      "text/plain": [
       "<matplotlib.collections.PathCollection at 0x7fbd53c9c9e8>"
      ]
     },
     "execution_count": 22,
     "metadata": {},
     "output_type": "execute_result"
    },
    {
     "data": {
      "image/png": "[encoded data removed]",
      "text/plain": [
       "<Figure size 432x288 with 1 Axes>"
      ]
     },
     "metadata": {
      "needs_background": "light"
     },
     "output_type": "display_data"
    }
   ],
   "source": [
    "plt.scatter(data[:,0],data[:,1])\n",
    "#plt.scatter(centroid[:,0],centroid[:,1],c=[\"red\",\"pink\"])"
   ]
  },
  {
   "cell_type": "code",
   "execution_count": 23,
   "metadata": {},
   "outputs": [],
   "source": [
    "\n",
    "def plot(dataset, history_centroids, belongs_to):\n",
    "    colors = ['r', 'g']\n",
    "\n",
    "    fig, ax = plt.subplots()\n",
    "\n",
    "    for index in range(dataset.shape[0]):\n",
    "        instances_close = [i for i in range(len(belongs_to)) if belongs_to[i] == index]\n",
    "        for instance_index in instances_close:\n",
    "            ax.plot(dataset[instance_index][0], dataset[instance_index][1], (colors[index] + 'o'))\n",
    "\n",
    "    history_points = []\n",
    "    for index, centroids in enumerate(history_centroids):\n",
    "        for inner, item in enumerate(centroids):\n",
    "            if index == 0:\n",
    "                history_points.append(ax.plot(item[0], item[1], 'bo')[0])\n",
    "            else:\n",
    "                history_points[inner].set_data(item[0], item[1])\n",
    "                print(\"centroids {} {}\".format(index, item))\n",
    "\n",
    "                plt.pause(0.8)\n",
    "\n"
   ]
  },
  {
   "cell_type": "code",
   "execution_count": 24,
   "metadata": {},
   "outputs": [
    {
     "name": "stdout",
     "output_type": "stream",
     "text": [
      "centroids 1 [0.22331067 0.28960446]\n"
     ]
    },
    {
     "data": {
      "image/png": "[encoded data removed]",
      "text/plain": [
       "<Figure size 432x288 with 1 Axes>"
      ]
     },
     "metadata": {
      "needs_background": "light"
     },
     "output_type": "display_data"
    },
    {
     "name": "stdout",
     "output_type": "stream",
     "text": [
      "centroids 1 [1.58058247 1.56897412]\n",
      "centroids 2 [0.22331067 0.28960446]\n",
      "centroids 2 [1.58058247 1.56897412]\n",
      "centroids 3 [0.22331067 0.28960446]\n",
      "centroids 3 [1.58058247 1.56897412]\n",
      "centroids 4 [0.22331067 0.28960446]\n",
      "centroids 4 [1.58058247 1.56897412]\n",
      "centroids 5 [0.22331067 0.28960446]\n",
      "centroids 5 [1.58058247 1.56897412]\n",
      "centroids 6 [0.22331067 0.28960446]\n",
      "centroids 6 [1.58058247 1.56897412]\n",
      "centroids 7 [0.22331067 0.28960446]\n",
      "centroids 7 [1.58058247 1.56897412]\n",
      "centroids 8 [0.22331067 0.28960446]\n",
      "centroids 8 [1.58058247 1.56897412]\n",
      "centroids 9 [0.22331067 0.28960446]\n",
      "centroids 9 [1.58058247 1.56897412]\n",
      "centroids 10 [0.22331067 0.28960446]\n",
      "centroids 10 [1.58058247 1.56897412]\n"
     ]
    }
   ],
   "source": [
    "plot(data,centroids_collection,cluster_belong)"
   ]
  },
  {
   "cell_type": "code",
   "execution_count": null,
   "metadata": {},
   "outputs": [],
   "source": []
  }
 ],
 "metadata": {
  "kernelspec": {
   "display_name": "Python 3",
   "language": "python",
   "name": "python3"
  },
  "language_info": {
   "codemirror_mode": {
    "name": "ipython",
    "version": 3
   },
   "file_extension": ".py",
   "mimetype": "text/x-python",
   "name": "python",
   "nbconvert_exporter": "python",
   "pygments_lexer": "ipython3",
   "version": "3.6.7"
  }
 },
 "nbformat": 4,
 "nbformat_minor": 2
}
