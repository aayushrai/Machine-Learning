{
 "cells": [
  {
   "cell_type": "code",
   "execution_count": 1,
   "metadata": {},
   "outputs": [],
   "source": [
    "from numpy import *"
   ]
  },
  {
   "cell_type": "code",
   "execution_count": 22,
   "metadata": {},
   "outputs": [
    {
     "name": "stdout",
     "output_type": "stream",
     "text": [
      "initail m:0,b:0,error:5565.107834483214\n",
      "initail m:1.4777440851894448,b:0.08893651993741349,error:112.6148101161347,iteration:1000\n"
     ]
    }
   ],
   "source": [
    "# y = mx + b\n",
    "# m is slope, b is y-intercept\n",
    "\n",
    "# calculating mean square error by formula\n",
    "def error_for_line2(point,m,b):\n",
    "    error = sum(list(map(lambda x,y:(y-(m*x+b))**2,point[:,0],point[:,1])))\n",
    "    return error/float(len(point))\n",
    "\n",
    "def grad_step(b_current,m_current,point,learn):\n",
    "    b_gradient = 0\n",
    "    m_gradient = 0\n",
    "    N = float(len(point))\n",
    "    # calculating gradient descent for b and m by partial derivative formula \n",
    "    b_gradient = sum(list(map(lambda x,y:-(2/N) * (y - ((m_current * x) + b_current)),point[:,0],point[:,1])))\n",
    "    m_gradient = sum(list(map(lambda x,y:-(2/N) * x * (y - ((m_current * x) + b_current)),point[:,0],point[:,1])))\n",
    "\n",
    "    new_b = b_current - learn*b_gradient\n",
    "    new_m = m_current - learn*m_gradient\n",
    "    return [new_b,new_m]\n",
    "    \n",
    "    \n",
    "def gradient_descent_runner(itera,start_m,start_b,learning,point):\n",
    "    b = start_m\n",
    "    m = start_b\n",
    "    for i in range(itera):\n",
    "        b,m = grad_step(b,m,array(point),learning)\n",
    "        \n",
    "    return[b,m]\n",
    "        \n",
    "def run():\n",
    "    data = genfromtxt(\"data.csv\",delimiter=\",\")\n",
    "    intial_m = 0\n",
    "    intial_b = 0\n",
    "    learning_rate = .0001\n",
    "    iteration = 1000\n",
    "    print(\"initail m:{0},b:{1},error:{2}\".format(intial_m,intial_b,error_for_line2(data,intial_m,intial_b)))\n",
    "    [b,m] = gradient_descent_runner(iteration,intial_m,intial_b,learning_rate,data) \n",
    "    print(\"initail m:{0},b:{1},error:{2},iteration:{3}\".format(m,b,error_for_line2(data,m,b),iteration))\n",
    "if __name__ == '__main__':\n",
    "    run()"
   ]
  },
  {
   "cell_type": "code",
   "execution_count": null,
   "metadata": {},
   "outputs": [],
   "source": [
    "# Easy understandable code\n",
    "#The optimal values of m and b can be actually calculated with way less effort than doing a linear regression. \n",
    "#this is just to demonstrate gradient descent\n",
    "\n",
    "from numpy import *\n",
    "\n",
    "# y = mx + b\n",
    "# m is slope, b is y-intercept\n",
    "def compute_error_for_line_given_points(b, m, points):\n",
    "    totalError = 0\n",
    "    for i in range(0, len(points)):\n",
    "        x = points[i, 0]\n",
    "        y = points[i, 1]\n",
    "        totalError += (y - (m * x + b)) ** 2\n",
    "    return totalError / float(len(points))\n",
    "\n",
    "def step_gradient(b_current, m_current, points, learningRate):\n",
    "    b_gradient = 0\n",
    "    m_gradient = 0\n",
    "    N = float(len(points))\n",
    "    for i in range(0, len(points)):\n",
    "        x = points[i, 0]\n",
    "        y = points[i, 1]\n",
    "        b_gradient += -(2/N) * (y - ((m_current * x) + b_current))\n",
    "        m_gradient += -(2/N) * x * (y - ((m_current * x) + b_current))\n",
    "    new_b = b_current - (learningRate * b_gradient)\n",
    "    new_m = m_current - (learningRate * m_gradient)\n",
    "    return [new_b, new_m]\n",
    "\n",
    "def gradient_descent_runner(points, starting_b, starting_m, learning_rate, num_iterations):\n",
    "    b = starting_b\n",
    "    m = starting_m\n",
    "    for i in range(num_iterations):\n",
    "        b, m = step_gradient(b, m, array(points), learning_rate)\n",
    "    return [b, m]\n",
    "\n",
    "def run():\n",
    "    points = genfromtxt(\"data.csv\", delimiter=\",\")\n",
    "    learning_rate = 0.0001\n",
    "    initial_b = 0 # initial y-intercept guess\n",
    "    initial_m = 0 # initial slope guess\n",
    "    num_iterations = 1000\n",
    "    print \"Starting gradient descent at b = {0}, m = {1}, error = {2}\".format(initial_b, initial_m, compute_error_for_line_given_points(initial_b, initial_m, points))\n",
    "    print \"Running...\"\n",
    "    [b, m] = gradient_descent_runner(points, initial_b, initial_m, learning_rate, num_iterations)\n",
    "    print \"After {0} iterations b = {1}, m = {2}, error = {3}\".format(num_iterations, b, m, compute_error_for_line_given_points(b, m, points))\n",
    "\n",
    "if __name__ == '__main__':\n",
    "    run()"
   ]
  },
  {
   "cell_type": "code",
   "execution_count": null,
   "metadata": {},
   "outputs": [],
   "source": []
  }
 ],
 "metadata": {
  "kernelspec": {
   "display_name": "Python 3",
   "language": "python",
   "name": "python3"
  },
  "language_info": {
   "codemirror_mode": {
    "name": "ipython",
    "version": 3
   },
   "file_extension": ".py",
   "mimetype": "text/x-python",
   "name": "python",
   "nbconvert_exporter": "python",
   "pygments_lexer": "ipython3",
   "version": "3.6.5"
  }
 },
 "nbformat": 4,
 "nbformat_minor": 2
}
